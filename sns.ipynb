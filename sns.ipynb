{
 "cells": [
  {
   "cell_type": "code",
   "execution_count": null,
   "metadata": {},
   "outputs": [],
   "source": [
    "import pandas as pd\n",
    "import numpy as np\n",
    "import matplotlib.pyplot as plt\n",
    "%matplotlib inline\n",
    "import seaborn as sns\n",
    "# 用pandas展示数据输出中文时列名对齐\n",
    "pd.set_option('display.unicode.east_asian_width', True)\n",
    "\n",
    "df1 = pd.DataFrame(\n",
    "     {'数据序号': [1, 2, 3, 4, 5, 6, 7, 8, 9, 10, 11, 12],\n",
    "         '厂商编号': ['001', '001', '001', '002', '002', '002', '003', '003', '003', '004', '004', '004'],\n",
    "         '产品类型': ['AAA', 'BBB', 'CCC', 'AAA', 'BBB', 'CCC', 'AAA', 'BBB', 'CCC', 'AAA', 'BBB', 'CCC'],\n",
    "         'A属性值': [40, 70, 60, 75, 90, 82, 73, 99, 125, 105, 137, 120],\n",
    "         'B属性值': [24, 36, 52, 32, 49, 68, 77, 90, 74, 88, 98, 99],\n",
    "         'C属性值': [30, 36, 55, 46, 68, 77, 72, 89, 99, 90, 115, 101]\n",
    "     }\n",
    ")"
   ]
  },
  {
   "cell_type": "code",
   "execution_count": null,
   "metadata": {},
   "outputs": [],
   "source": [
    "df1.iloc[0:10,0:2]"
   ]
  },
  {
   "cell_type": "code",
   "execution_count": null,
   "metadata": {},
   "outputs": [],
   "source": []
  },
  {
   "cell_type": "code",
   "execution_count": null,
   "metadata": {},
   "outputs": [],
   "source": []
  },
  {
   "cell_type": "code",
   "execution_count": null,
   "metadata": {},
   "outputs": [],
   "source": [
    "# sns.set()\n",
    "sns.set_style('darkgrid')\n",
    "# 将字体设置为黑体（避免中文乱码)\n",
    "plt.rcParams['font.sans-serif'] = ['SimHei']\n",
    "# 白色网格\n",
    "# sns.set_style('whitegrid')\n",
    "# sns.set_style('dark')\n",
    "# # 四周带刻度线的白色背景\n",
    "# sns.set_style('ticks')\n",
    "\n",
    "# # 移除顶部和右部边框，只保留左边框和下边框\n",
    "# sns.despine()\n",
    "# # 使两个坐标轴相隔一段距离（以10长度为例）\n",
    "# sns.despine(offet=10,trim=True) \n",
    "# # 移除左边框\n",
    "# sns.despine(left=True) \n",
    "# # 移除指定边框 （以只保留底部边框为例）\n",
    "# sns.despine(fig=None, ax=None, top=True, right=True, left=True, bottom=False, offset=None, trim=False)"
   ]
  },
  {
   "cell_type": "code",
   "execution_count": null,
   "metadata": {},
   "outputs": [],
   "source": [
    "# 散点图 replot() 或者 scatter()\n",
    "sns.set_style('darkgrid')\n",
    "# 将字体设置为黑体（避免中文乱码)\n",
    "plt.rcParams['font.sans-serif'] = ['SimHei']\n",
    "# %matplotlib inline\n",
    "fig, axes =plt.subplots(2,1,figsize=(15,7))\n",
    "# 散点图 replot() 或者 scatter()\n",
    "# sns.set_style('darkgrid')\n",
    "# 将字体设置为黑体（避免中文乱码)\n",
    "# plt.rcParams['font.sans-serif'] = ['SimHei']\n",
    "sns.relplot(x='数据序号',y='A属性值', hue='产品类型', data=df1,ax=axes[0])\n",
    "# plt.show()\n"
   ]
  },
  {
   "cell_type": "code",
   "execution_count": null,
   "metadata": {},
   "outputs": [],
   "source": [
    "\n",
    "# 将A属性、B属性、C属性三个字段的值用不同的样式绘制在同一张图上（绘制散点图），x轴数据是[0,2,4,6,8…]\n",
    "\n",
    "# ticks风格（四个方向的框线都要），字体使用楷体\n",
    "# sns.set_style('ticks')\n",
    "# plt.rcParams['font.sans-serif'] = ['STKAITI']\n",
    "sns.set_style('darkgrid')\n",
    "# 将字体设置为黑体（避免中文乱码)\n",
    "plt.rcParams['font.sans-serif'] = ['SimHei']\n",
    "# %matplotlib inline\n",
    "fig, axes =plt.subplots(2,1,figsize=(15,7))\n",
    "# 散点图 replot() 或者 scatter()\n",
    "# sns.set_style('darkgrid')\n",
    "# 将字体设置为黑体（避免中文乱码)\n",
    "# plt.rcParams['font.sans-serif'] = ['SimHei']\n",
    "sns.relplot(x='数据序号',y='A属性值', hue='产品类型', data=df1,ax=axes[0])\n",
    "df2 = df1.copy()\n",
    "df2.index = list(range(0, len(df2)*2, 2))\n",
    "dfs = [df2['A属性值'], df2['B属性值'], df2['C属性值']]\n",
    "sns.scatterplot(data=dfs,ax=axes[1])\n",
    "# plt.show()"
   ]
  },
  {
   "cell_type": "code",
   "execution_count": null,
   "metadata": {},
   "outputs": [],
   "source": [
    "#绘制折线图 replot() 或者 lineplot()\n",
    "sns.set_style('darkgrid')\n",
    "plt.rcParams['font.sans-serif'] = ['STKAITI']\n",
    "sns.relplot(x='数据序号', y='A属性值', hue='产品类型', data=df1, kind='line')\n",
    "plt.title('绘制折线图', fontsize=18)\n",
    "plt.xlabel('num', fontsize=18)\n",
    "plt.ylabel('A属性值', fontsize=16)\n",
    "plt.subplots_adjust(left=0.15, right=0.9, bottom=0.1, top=0.9)\n"
   ]
  },
  {
   "cell_type": "code",
   "execution_count": null,
   "metadata": {},
   "outputs": [],
   "source": [
    "# 多重子图\n",
    "\n",
    "# 横向多重子图 col\n",
    "\n",
    "sns.set_style('darkgrid')\n",
    "plt.rcParams['font.sans-serif'] = ['STKAITI']\n",
    "sns.relplot(data=df1, x='A属性值', y='B属性值', kind='line', col='厂商编号')\n",
    "plt.subplots_adjust(left=0.05, right=0.95, bottom=0.1, top=0.9)\n",
    "# plt.show()"
   ]
  },
  {
   "cell_type": "code",
   "execution_count": null,
   "metadata": {},
   "outputs": [],
   "source": [
    "#直方图 sns.displot \n",
    "# bins=6 表示 分成六个区间绘图\n",
    "# rug=True 表示在x轴上显示观测的小细条\n",
    "# kde=True表示显示核密度曲线\n",
    "sns.set_style('darkgrid')\n",
    "plt.rcParams['font.sans-serif'] = ['STKAITI']\n",
    "sns.displot(data=df1[['C属性值']], bins=6, rug=True, kde=True)\n",
    "plt.title('直方图', fontsize=18)\n",
    "plt.xlabel('C属性值', fontsize=18)\n",
    "plt.ylabel('数量', fontsize=16)\n",
    "plt.subplots_adjust(left=0.15, right=0.9, bottom=0.1, top=0.9)\n",
    "\n",
    "\n",
    "\n",
    "# 随机生成300个正态分布数据，并绘制直方图，显示核密度曲线\n",
    "np.random.seed(13)\n",
    "Y = np.random.randn(300)\n",
    "sns.displot(Y, bins=9, rug=True, kde=True)\n",
    "plt.title('直方图', fontsize=18)\n",
    "plt.xlabel('C属性值', fontsize=18)\n",
    "plt.ylabel('数量', fontsize=16)\n",
    "plt.subplots_adjust(left=0.15, right=0.9, bottom=0.1, top=0.9)\n"
   ]
  },
  {
   "cell_type": "code",
   "execution_count": null,
   "metadata": {},
   "outputs": [],
   "source": [
    "# 绘制条形图使用的是barplot()方法\n",
    "\n",
    "# 以产品类型 字段数据作为x轴数据，A属性值数据作为y轴数据。按照厂商编号字段的不同进行分类。\n",
    "\n",
    "# 具体如下：\n",
    "\n",
    "sns.set_style('darkgrid')\n",
    "plt.rcParams['font.sans-serif'] = ['STKAITI']\n",
    "sns.barplot(x='产品类型', y='A属性值', hue='厂商编号', data=df1)\n",
    "plt.title('条形图', fontsize=18)\n",
    "plt.xlabel('产品类型', fontsize=18)\n",
    "plt.ylabel('数量', fontsize=16)\n",
    "plt.subplots_adjust(left=0.15, right=0.9, bottom=0.15, top=0.9)"
   ]
  },
  {
   "cell_type": "code",
   "execution_count": null,
   "metadata": {},
   "outputs": [],
   "source": [
    "# 绘制线性回归模型\n",
    "# 绘制线性回归模型使用的是lmplot()方法。\n",
    "\n",
    "# 主要的参数为x, y, data。分别表示x轴数据、y轴数据和数据集数据。\n",
    "\n",
    "# 除此之外，同上述所讲，还可以通过hue指定分类的变量；\n",
    "\n",
    "# 通过col指定列分类变量，以绘制 横向多重子图；\n",
    "\n",
    "# 通过row指定行分类变量，以绘制 纵向多重子图；\n",
    "\n",
    "# 通过col_wrap控制每行子图的数量；\n",
    "\n",
    "# 通过size可以控制子图的高度；\n",
    "\n",
    "# 通过markers可以控制点的形状。\n",
    "sns.set_style('darkgrid')\n",
    "plt.rcParams['font.sans-serif'] = ['STKAITI']\n",
    "sns.lmplot(x='A属性值', y='B属性值', data=df1)\n",
    "plt.title('线性回归模型', fontsize=18)\n",
    "plt.xlabel('A属性值', fontsize=18)\n",
    "plt.ylabel('B属性值', fontsize=16)\n",
    "plt.subplots_adjust(left=0.15, right=0.9, bottom=0.15, top=0.9)"
   ]
  },
  {
   "cell_type": "code",
   "execution_count": null,
   "metadata": {},
   "outputs": [],
   "source": [
    "# 9. 绘制 核密度图 kdeplot()\n",
    "# 9.1 一般核密度图\n",
    "# 绘制和密度图，可以让我们更直观地看出样本数据的分布特征。绘制核密度图使用的方法是kdeplot()方法。\n",
    "\n",
    "# 对A属性值和B属性值绘制核密度图，\n",
    "\n",
    "# 将shade设置为True可以显示包围的阴影，否则只有线条。\n",
    "sns.set_style('darkgrid')\n",
    "plt.rcParams['font.sans-serif'] = ['STKAITI']\n",
    "sns.kdeplot(df1['A属性值'], shade=True, data=df1, color='r')\n",
    "sns.kdeplot(df1['B属性值'], shade=True, data=df1, color='g')\n",
    "plt.title('核密度图', fontsize=18)\n",
    "plt.xlabel('Value', fontsize=18)\n",
    "plt.subplots_adjust(left=0.15, right=0.9, bottom=0.15, top=0.9)\n",
    "\n",
    "# 9.2 边际核密度图\n",
    "# 绘制边际核密度图时使用的是sns.jointplot()方法。参数kind应为\"kde\"。使用该方法时，默认使用的是dark样式。且不建议手动添加其他样式，否则可能使图像无法正常显示。\n",
    "\n",
    "plt.rcParams['font.sans-serif'] = ['STKAITI']\n",
    "sns.jointplot(x=df1['A属性值'], y=df1['B属性值'], kind='kde', space=0)\n"
   ]
  },
  {
   "cell_type": "code",
   "execution_count": null,
   "metadata": {},
   "outputs": [],
   "source": [
    "# 箱线图\n",
    "plt.rcParams['font.sans-serif'] = ['STKAITI']\n",
    "sns.boxplot(x='产品类型', y='A属性值', data=df2, hue='厂商编号') "
   ]
  },
  {
   "cell_type": "code",
   "execution_count": null,
   "metadata": {},
   "outputs": [],
   "source": [
    "# 11. 绘制 提琴图 violinplot()\n",
    "# 提琴图结合了箱线图和核密度图的特征，用于展示数据的分布形状。\n",
    "\n",
    "plt.rcParams['font.sans-serif'] = ['STKAITI']\n",
    "sns.violinplot(x='产品类型', y='A属性值', data=df2)"
   ]
  },
  {
   "cell_type": "code",
   "execution_count": null,
   "metadata": {},
   "outputs": [],
   "source": [
    "# 12 热力图\n",
    "sns.set()\n",
    "plt.figure(figsize=(6,6))\n",
    "plt.rcParams['font.sans-serif'] = ['STKAITI']\n",
    "s1 = np.random.randint(0, 200, 33)\n",
    "s2 = np.random.randint(0, 200, 33)\n",
    "s3 = np.random.randint(0, 200, 33)\n",
    "s4 = np.random.randint(0, 200, 33)\n",
    "s5 = np.random.randint(0, 200, 33)\n",
    "s6 = np.random.randint(0, 200, 33)\n",
    "s7 = np.random.randint(0, 200, 33)\n",
    "data = pd.DataFrame(\n",
    "{'一': s1,\n",
    "'二': s2,\n",
    "'三': s3,\n",
    "'四':s4,\n",
    "'五':s5,\n",
    "'六':s6,\n",
    "'七':s7\n",
    "}\n",
    ")\n",
    "plt.title('双色球热力图')\n",
    "sns.heatmap(data, annot=True, fmt='d', lw=0.5)\n",
    "plt.xlabel('中奖号码位数')\n",
    "plt.ylabel('双色球数字')\n",
    "x = ['第1位', '第2位', '第3位', '第4位', '第5位', '第6位', '第7位']\n",
    "plt.xticks(range(0, 7, 1), x, ha='left')"
   ]
  },
  {
   "cell_type": "markdown",
   "metadata": {},
   "source": [
    "总结可视化画图\n",
    "1.sns.relplot:创建关系图，线图或者散点图，查看变量之间的关系\n",
    "2.sns.displot:创建分布图，包括直方图，核密度图\n",
    "3.sns.catplot:创建分类图，如箱线图，条形图、带状图、小提琴图"
   ]
  }
 ],
 "metadata": {
  "kernelspec": {
   "display_name": "Python 3.9.7 64-bit",
   "language": "python",
   "name": "python3"
  },
  "language_info": {
   "codemirror_mode": {
    "name": "ipython",
    "version": 3
   },
   "file_extension": ".py",
   "mimetype": "text/x-python",
   "name": "python",
   "nbconvert_exporter": "python",
   "pygments_lexer": "ipython3",
   "version": "3.9.7"
  },
  "orig_nbformat": 4,
  "vscode": {
   "interpreter": {
    "hash": "aee8b7b246df8f9039afb4144a1f6fd8d2ca17a180786b69acc140d282b71a49"
   }
  }
 },
 "nbformat": 4,
 "nbformat_minor": 2
}
